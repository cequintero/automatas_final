{
  "nbformat": 4,
  "nbformat_minor": 0,
  "metadata": {
    "colab": {
      "name": "maquinas_touring_ocultar_mensaje_en_imagenes.ipynb",
      "provenance": [],
      "collapsed_sections": [],
      "include_colab_link": true
    },
    "kernelspec": {
      "name": "python3",
      "display_name": "Python 3"
    },
    "language_info": {
      "name": "python"
    }
  },
  "cells": [
    {
      "cell_type": "markdown",
      "metadata": {
        "id": "view-in-github",
        "colab_type": "text"
      },
      "source": [
        "<a href=\"https://colab.research.google.com/github/cequintero/automatas_final/blob/main/maquinas_touring_ocultar_mensaje_en_imagenes.ipynb\" target=\"_parent\"><img src=\"https://colab.research.google.com/assets/colab-badge.svg\" alt=\"Open In Colab\"/></a>"
      ]
    },
    {
      "cell_type": "markdown",
      "source": [
        "## Máquinas de Turing para realizar compresión de imágenes e incluir mensajes ocultos\n",
        "Primero, se elige la imagen a comprimir, se segmenta en los 3 canales (RGB). Luego, se procesa con una máquina de Turing que genera una secuencia de bits a partir de las imágenes seleccionadas. Se agrega el mensaje a la imagen mediante una segunda maquina de Turing. Finalmente, se comprime sin perdidas la secuencia de bits mediante otra máquina de Turing."
      ],
      "metadata": {
        "id": "zQRu1XM4oCR6"
      }
    },
    {
      "cell_type": "code",
      "source": [
        "# carga de librerias\n",
        "!pip install automata-lib==5.0.0"
      ],
      "metadata": {
        "colab": {
          "base_uri": "https://localhost:8080/"
        },
        "id": "MpWL5PgIuoKR",
        "outputId": "20600e3a-5b9d-4cf4-f251-edae4b2965a5"
      },
      "execution_count": null,
      "outputs": [
        {
          "output_type": "stream",
          "name": "stdout",
          "text": [
            "Requirement already satisfied: automata-lib==5.0.0 in /usr/local/lib/python3.7/dist-packages (5.0.0)\n",
            "Requirement already satisfied: pydot in /usr/local/lib/python3.7/dist-packages (from automata-lib==5.0.0) (1.3.0)\n",
            "Requirement already satisfied: pyparsing>=2.1.4 in /usr/local/lib/python3.7/dist-packages (from pydot->automata-lib==5.0.0) (3.0.7)\n"
          ]
        }
      ]
    },
    {
      "cell_type": "code",
      "source": [
        "from automata.tm.dtm import DTM"
      ],
      "metadata": {
        "id": "n99UKgYbyaUQ"
      },
      "execution_count": null,
      "outputs": []
    },
    {
      "cell_type": "markdown",
      "source": [
        "### 1. Selección de las imágenes\n",
        "\n",
        "Se pueden seleccionar imágenes de cualquier tamaño, pero se recomienda que sean imágenes de menor tamaño a 2MB para que el proceso de compresión sea más rápido. De igual forma, puede continuar con una imagen de prueba que ya se encuentra precargada en el proyecto. Las imágenes a comprimir pueden ser seleccionadas de forma manual (Formato **png**) y subirlas al notebook ejecutando el siguiente bloque de código:"
      ],
      "metadata": {
        "id": "HqlVzPZTsKuL"
      }
    },
    {
      "cell_type": "code",
      "source": [
        "!rm penguins*"
      ],
      "metadata": {
        "id": "prQlrZs39f8b"
      },
      "execution_count": null,
      "outputs": []
    },
    {
      "cell_type": "code",
      "source": [
        "!wget https://raw.githubusercontent.com/cequintero/automatas/main/images/penguins-xlow.png\n",
        "import matplotlib.pyplot as plt\n",
        "import matplotlib.image as mpimg\n",
        "import numpy as np"
      ],
      "metadata": {
        "colab": {
          "base_uri": "https://localhost:8080/"
        },
        "id": "kvfCc4O2yrsd",
        "outputId": "c481b7fe-0cc7-4119-c078-515fc75c6e3d"
      },
      "execution_count": null,
      "outputs": [
        {
          "output_type": "stream",
          "name": "stdout",
          "text": [
            "--2022-03-18 15:29:10--  https://raw.githubusercontent.com/cequintero/automatas/main/images/penguins-xlow.png\n",
            "Resolving raw.githubusercontent.com (raw.githubusercontent.com)... 185.199.108.133, 185.199.109.133, 185.199.110.133, ...\n",
            "Connecting to raw.githubusercontent.com (raw.githubusercontent.com)|185.199.108.133|:443... connected.\n",
            "HTTP request sent, awaiting response... 200 OK\n",
            "Length: 1235 (1.2K) [image/png]\n",
            "Saving to: ‘penguins-xlow.png’\n",
            "\n",
            "\rpenguins-xlow.png     0%[                    ]       0  --.-KB/s               \rpenguins-xlow.png   100%[===================>]   1.21K  --.-KB/s    in 0s      \n",
            "\n",
            "2022-03-18 15:29:10 (30.8 MB/s) - ‘penguins-xlow.png’ saved [1235/1235]\n",
            "\n"
          ]
        }
      ]
    },
    {
      "cell_type": "code",
      "source": [
        "!ls"
      ],
      "metadata": {
        "colab": {
          "base_uri": "https://localhost:8080/"
        },
        "id": "1KByvWQ53Ca-",
        "outputId": "eaad60a6-26ef-41eb-adc9-a5f739d3e573"
      },
      "execution_count": null,
      "outputs": [
        {
          "output_type": "stream",
          "name": "stdout",
          "text": [
            "penguins-xlow.png  sample_data\n"
          ]
        }
      ]
    },
    {
      "cell_type": "code",
      "source": [
        "img = mpimg.imread('/content/penguins-xlow.png')\n",
        "print(img) # array con los valores de la imagen\n",
        "x,y,z = img.shape\n",
        "print('Dimensiones de la imagen: ', x, ' x ', y,'(', z, ' canales)')"
      ],
      "metadata": {
        "colab": {
          "base_uri": "https://localhost:8080/"
        },
        "id": "tDHu_99S2vll",
        "outputId": "0be1de95-7e2b-4489-e1cc-78b746880f3b"
      },
      "execution_count": null,
      "outputs": [
        {
          "output_type": "stream",
          "name": "stdout",
          "text": [
            "[[[0.23529412 0.30980393 0.03921569]\n",
            "  [0.24705882 0.32156864 0.02352941]\n",
            "  [0.23921569 0.3019608  0.        ]\n",
            "  [0.23529412 0.29411766 0.        ]\n",
            "  [0.20392157 0.25490198 0.        ]\n",
            "  [0.20784314 0.2509804  0.01568628]\n",
            "  [0.14509805 0.17254902 0.01960784]\n",
            "  [0.09019608 0.12156863 0.03137255]\n",
            "  [0.12941177 0.16862746 0.08627451]]\n",
            "\n",
            " [[0.30588236 0.3882353  0.06666667]\n",
            "  [0.31764707 0.39607844 0.03137255]\n",
            "  [0.35686275 0.43529412 0.06666667]\n",
            "  [0.34117648 0.41960785 0.05882353]\n",
            "  [0.34509805 0.41568628 0.07058824]\n",
            "  [0.2627451  0.32941177 0.03529412]\n",
            "  [0.27450982 0.34901962 0.0627451 ]\n",
            "  [0.23137255 0.3019608  0.07450981]\n",
            "  [0.21568628 0.29803923 0.13725491]]\n",
            "\n",
            " [[0.3764706  0.45882353 0.09411765]\n",
            "  [0.40392157 0.4862745  0.10588235]\n",
            "  [0.43529412 0.5176471  0.15686275]\n",
            "  [0.4392157  0.54509807 0.16862746]\n",
            "  [0.35686275 0.4117647  0.20392157]\n",
            "  [0.28235295 0.27450982 0.29803923]\n",
            "  [0.42352942 0.5137255  0.30980393]\n",
            "  [0.44313726 0.5803922  0.3137255 ]\n",
            "  [0.37254903 0.5176471  0.3254902 ]]\n",
            "\n",
            " [[0.42745098 0.5137255  0.12156863]\n",
            "  [0.4509804  0.5411765  0.11764706]\n",
            "  [0.2901961  0.36078432 0.07450981]\n",
            "  [0.21176471 0.28235295 0.08235294]\n",
            "  [0.24313726 0.25490198 0.20392157]\n",
            "  [0.3882353  0.34117648 0.4117647 ]\n",
            "  [0.38039216 0.44705883 0.3764706 ]\n",
            "  [0.42352942 0.5372549  0.39215687]\n",
            "  [0.39607844 0.5529412  0.36862746]]\n",
            "\n",
            " [[0.44705883 0.5294118  0.11372549]\n",
            "  [0.43529412 0.5019608  0.18431373]\n",
            "  [0.4745098  0.54901963 0.20392157]\n",
            "  [0.4745098  0.5764706  0.17254902]\n",
            "  [0.44313726 0.5254902  0.2627451 ]\n",
            "  [0.37254903 0.36078432 0.36078432]\n",
            "  [0.5019608  0.58431375 0.49803922]\n",
            "  [0.4627451  0.5647059  0.43137255]\n",
            "  [0.5254902  0.6627451  0.5137255 ]]\n",
            "\n",
            " [[0.45490196 0.4862745  0.25882354]\n",
            "  [0.23529412 0.23529412 0.23529412]\n",
            "  [0.31764707 0.3137255  0.32156864]\n",
            "  [0.4509804  0.47843137 0.33333334]\n",
            "  [0.6156863  0.7019608  0.42745098]\n",
            "  [0.54509807 0.6392157  0.42745098]\n",
            "  [0.654902   0.74509805 0.5686275 ]\n",
            "  [0.6901961  0.8039216  0.6117647 ]\n",
            "  [0.6901961  0.79607844 0.6627451 ]]\n",
            "\n",
            " [[0.35686275 0.39215687 0.09803922]\n",
            "  [0.2901961  0.3137255  0.14901961]\n",
            "  [0.26666668 0.2627451  0.28627452]\n",
            "  [0.36078432 0.3372549  0.43137255]\n",
            "  [0.49803922 0.49411765 0.5058824 ]\n",
            "  [0.5411765  0.6        0.43529412]\n",
            "  [0.5764706  0.6313726  0.50980395]\n",
            "  [0.70980394 0.7882353  0.6313726 ]\n",
            "  [0.67058825 0.76862746 0.60784316]]\n",
            "\n",
            " [[0.44313726 0.4745098  0.20392157]\n",
            "  [0.41960785 0.45490196 0.21176471]\n",
            "  [0.3529412  0.36862746 0.27450982]\n",
            "  [0.29803923 0.2901961  0.31764707]\n",
            "  [0.2509804  0.22352941 0.28235295]\n",
            "  [0.35686275 0.3372549  0.37254903]\n",
            "  [0.23137255 0.21960784 0.22745098]\n",
            "  [0.4862745  0.53333336 0.39607844]\n",
            "  [0.7294118  0.8        0.6509804 ]]\n",
            "\n",
            " [[0.4627451  0.5019608  0.2       ]\n",
            "  [0.21176471 0.23921569 0.0627451 ]\n",
            "  [0.08235294 0.08627451 0.06666667]\n",
            "  [0.21568628 0.23921569 0.09803922]\n",
            "  [0.2784314  0.30980393 0.14901961]\n",
            "  [0.38039216 0.39215687 0.27450982]\n",
            "  [0.37254903 0.4117647  0.22352941]\n",
            "  [0.5882353  0.64705884 0.47843137]\n",
            "  [0.5921569  0.654902   0.49411765]]\n",
            "\n",
            " [[0.32156864 0.3647059  0.05098039]\n",
            "  [0.21568628 0.24705882 0.05490196]\n",
            "  [0.15294118 0.16862746 0.06666667]\n",
            "  [0.2784314  0.30980393 0.14509805]\n",
            "  [0.42352942 0.48235294 0.28627452]\n",
            "  [0.5294118  0.60784316 0.32941177]\n",
            "  [0.6039216  0.6745098  0.43529412]\n",
            "  [0.627451   0.6901961  0.49019608]\n",
            "  [0.6627451  0.7254902  0.60784316]]\n",
            "\n",
            " [[0.34509805 0.38039216 0.12156863]\n",
            "  [0.3254902  0.3647059  0.15294118]\n",
            "  [0.14901961 0.16862746 0.0627451 ]\n",
            "  [0.06666667 0.08235294 0.03529412]\n",
            "  [0.25490198 0.28235295 0.20784314]\n",
            "  [0.4392157  0.49803922 0.3529412 ]\n",
            "  [0.6431373  0.7019608  0.6       ]\n",
            "  [0.65882355 0.70980394 0.6       ]\n",
            "  [0.6431373  0.69803923 0.5411765 ]]\n",
            "\n",
            " [[0.3137255  0.3529412  0.12156863]\n",
            "  [0.30588236 0.3372549  0.16862746]\n",
            "  [0.1882353  0.21960784 0.15686275]\n",
            "  [0.14509805 0.18431373 0.08627451]\n",
            "  [0.3254902  0.36078432 0.3254902 ]\n",
            "  [0.38039216 0.42745098 0.42745098]\n",
            "  [0.5137255  0.57254905 0.47843137]\n",
            "  [0.5647059  0.62352943 0.5137255 ]\n",
            "  [0.54901963 0.6039216  0.47843137]]\n",
            "\n",
            " [[0.29803923 0.34117648 0.17254902]\n",
            "  [0.2627451  0.3019608  0.15686275]\n",
            "  [0.29411766 0.32941177 0.23137255]\n",
            "  [0.2509804  0.29411766 0.14509805]\n",
            "  [0.3019608  0.33333334 0.21176471]\n",
            "  [0.36078432 0.39215687 0.3764706 ]\n",
            "  [0.4117647  0.4627451  0.4117647 ]\n",
            "  [0.36862746 0.42352942 0.38039216]\n",
            "  [0.43137255 0.49019608 0.43529412]]]\n",
            "Dimensiones de la imagen:  13  x  9 ( 3  canales)\n"
          ]
        }
      ]
    },
    {
      "cell_type": "code",
      "source": [
        "plt.title('Imagen de prueba')\n",
        "plt.imshow(img)"
      ],
      "metadata": {
        "colab": {
          "base_uri": "https://localhost:8080/",
          "height": 298
        },
        "id": "YkGbcnUS1o9R",
        "outputId": "91ffe1dd-6365-4a4f-888e-7080b40be94b"
      },
      "execution_count": null,
      "outputs": [
        {
          "output_type": "execute_result",
          "data": {
            "text/plain": [
              "<matplotlib.image.AxesImage at 0x7f49b013e490>"
            ]
          },
          "metadata": {},
          "execution_count": 12
        },
        {
          "output_type": "display_data",
          "data": {
            "text/plain": [
              "<Figure size 432x288 with 1 Axes>"
            ],
            "image/png": "[encoded data removed]"
          },
          "metadata": {
            "needs_background": "light"
          }
        }
      ]
    },
    {
      "cell_type": "markdown",
      "source": [
        "### 2. Segmentación de las imágenes en canales RGB\n",
        "Las imágenes seleccionadas se segmentan en 3 canales RGB (rojo, verde, azul) utilizando el siguiente código:"
      ],
      "metadata": {
        "id": "kmTYYZAcuxWS"
      }
    },
    {
      "cell_type": "code",
      "source": [
        "print(img.shape)\n",
        "r,g,b = np.split(img, 3, axis=2)\n",
        "f, axs = plt.subplots(1, 3, figsize=(10, 3))\n",
        "axs[0].set_title('Red')\n",
        "axs[0].imshow(r.squeeze(), cmap='Reds')\n",
        "axs[1].set_title('Green')\n",
        "axs[1].imshow(g.squeeze(), cmap='Greens')\n",
        "axs[2].set_title('Blue')\n",
        "axs[2].imshow(b.squeeze(), cmap='Blues')\n",
        "plt.show()"
      ],
      "metadata": {
        "colab": {
          "base_uri": "https://localhost:8080/",
          "height": 244
        },
        "id": "q-O4_URK9_xy",
        "outputId": "e85d7a6d-3880-46d4-d641-ef47d4807f93"
      },
      "execution_count": null,
      "outputs": [
        {
          "output_type": "stream",
          "name": "stdout",
          "text": [
            "(13, 9, 3)\n"
          ]
        },
        {
          "output_type": "display_data",
          "data": {
            "text/plain": [
              "<Figure size 720x216 with 3 Axes>"
            ],
            "image/png": "[encoded data removed]"
          },
          "metadata": {
            "needs_background": "light"
          }
        }
      ]
    },
    {
      "cell_type": "code",
      "source": [
        "def getStringOfArrayFloat(arr):\n",
        "  print('Arreglo de una dimension (float): ', arr)\n",
        "  arr*=255\n",
        "  arr = arr.astype(int)\n",
        "  resp = \"\"\n",
        "  print('arreglo de enteros (0~255): ', arr)\n",
        "  for i in arr:\n",
        "    resp += '{0:08b}'.format(i)\n",
        "  print('String (binario primeros 6 bytes): ', resp[0:48])\n",
        "  return resp\n"
      ],
      "metadata": {
        "id": "iZgStGHbUI2B"
      },
      "execution_count": null,
      "outputs": []
    },
    {
      "cell_type": "code",
      "source": [
        "print('===  Red  ===')\n",
        "rString = getStringOfArrayFloat(r.flatten())\n",
        "print('===  Green  ===')\n",
        "gString = getStringOfArrayFloat(g.flatten())\n",
        "print('===  Blue  ===')\n",
        "bString = getStringOfArrayFloat(b.flatten())"
      ],
      "metadata": {
        "colab": {
          "base_uri": "https://localhost:8080/"
        },
        "id": "Syha8exiNO53",
        "outputId": "a3bf70f8-d6ed-4576-c662-c3c169a2ace2"
      },
      "execution_count": null,
      "outputs": [
        {
          "output_type": "stream",
          "name": "stdout",
          "text": [
            "===  Red  ===\n",
            "Arreglo de una dimension (float):  [0.23529412 0.24705882 0.23921569 0.23529412 0.20392157 0.20784314\n",
            " 0.14509805 0.09019608 0.12941177 0.30588236 0.31764707 0.35686275\n",
            " 0.34117648 0.34509805 0.2627451  0.27450982 0.23137255 0.21568628\n",
            " 0.3764706  0.40392157 0.43529412 0.4392157  0.35686275 0.28235295\n",
            " 0.42352942 0.44313726 0.37254903 0.42745098 0.4509804  0.2901961\n",
            " 0.21176471 0.24313726 0.3882353  0.38039216 0.42352942 0.39607844\n",
            " 0.44705883 0.43529412 0.4745098  0.4745098  0.44313726 0.37254903\n",
            " 0.5019608  0.4627451  0.5254902  0.45490196 0.23529412 0.31764707\n",
            " 0.4509804  0.6156863  0.54509807 0.654902   0.6901961  0.6901961\n",
            " 0.35686275 0.2901961  0.26666668 0.36078432 0.49803922 0.5411765\n",
            " 0.5764706  0.70980394 0.67058825 0.44313726 0.41960785 0.3529412\n",
            " 0.29803923 0.2509804  0.35686275 0.23137255 0.4862745  0.7294118\n",
            " 0.4627451  0.21176471 0.08235294 0.21568628 0.2784314  0.38039216\n",
            " 0.37254903 0.5882353  0.5921569  0.32156864 0.21568628 0.15294118\n",
            " 0.2784314  0.42352942 0.5294118  0.6039216  0.627451   0.6627451\n",
            " 0.34509805 0.3254902  0.14901961 0.06666667 0.25490198 0.4392157\n",
            " 0.6431373  0.65882355 0.6431373  0.3137255  0.30588236 0.1882353\n",
            " 0.14509805 0.3254902  0.38039216 0.5137255  0.5647059  0.54901963\n",
            " 0.29803923 0.2627451  0.29411766 0.2509804  0.3019608  0.36078432\n",
            " 0.4117647  0.36862746 0.43137255]\n",
            "arreglo de enteros (0~255):  [ 60  63  61  60  52  53  37  23  33  78  81  91  87  88  67  70  59  55\n",
            "  96 103 111 112  91  72 108 113  95 109 115  74  54  62  99  97 108 101\n",
            " 114 111 121 121 113  95 128 118 134 116  60  81 115 157 139 167 176 176\n",
            "  91  74  68  92 127 138 147 181 171 113 107  90  76  64  91  59 124 186\n",
            " 118  54  21  55  71  97  95 150 151  82  55  39  71 108 135 154 160 169\n",
            "  88  83  38  17  65 112 164 168 164  80  78  48  37  83  97 131 144 140\n",
            "  76  67  75  64  77  92 105  94 110]\n",
            "String (binario primeros 6 bytes):  001111000011111100111101001111000011010000110101\n",
            "===  Green  ===\n",
            "Arreglo de una dimension (float):  [0.30980393 0.32156864 0.3019608  0.29411766 0.25490198 0.2509804\n",
            " 0.17254902 0.12156863 0.16862746 0.3882353  0.39607844 0.43529412\n",
            " 0.41960785 0.41568628 0.32941177 0.34901962 0.3019608  0.29803923\n",
            " 0.45882353 0.4862745  0.5176471  0.54509807 0.4117647  0.27450982\n",
            " 0.5137255  0.5803922  0.5176471  0.5137255  0.5411765  0.36078432\n",
            " 0.28235295 0.25490198 0.34117648 0.44705883 0.5372549  0.5529412\n",
            " 0.5294118  0.5019608  0.54901963 0.5764706  0.5254902  0.36078432\n",
            " 0.58431375 0.5647059  0.6627451  0.4862745  0.23529412 0.3137255\n",
            " 0.47843137 0.7019608  0.6392157  0.74509805 0.8039216  0.79607844\n",
            " 0.39215687 0.3137255  0.2627451  0.3372549  0.49411765 0.6\n",
            " 0.6313726  0.7882353  0.76862746 0.4745098  0.45490196 0.36862746\n",
            " 0.2901961  0.22352941 0.3372549  0.21960784 0.53333336 0.8\n",
            " 0.5019608  0.23921569 0.08627451 0.23921569 0.30980393 0.39215687\n",
            " 0.4117647  0.64705884 0.654902   0.3647059  0.24705882 0.16862746\n",
            " 0.30980393 0.48235294 0.60784316 0.6745098  0.6901961  0.7254902\n",
            " 0.38039216 0.3647059  0.16862746 0.08235294 0.28235295 0.49803922\n",
            " 0.7019608  0.70980394 0.69803923 0.3529412  0.3372549  0.21960784\n",
            " 0.18431373 0.36078432 0.42745098 0.57254905 0.62352943 0.6039216\n",
            " 0.34117648 0.3019608  0.32941177 0.29411766 0.33333334 0.39215687\n",
            " 0.4627451  0.42352942 0.49019608]\n",
            "arreglo de enteros (0~255):  [ 79  82  77  75  65  64  44  31  43  99 101 111 107 106  84  89  77  76\n",
            " 117 124 132 139 105  70 131 148 132 131 138  92  72  65  87 114 137 141\n",
            " 135 128 140 147 134  92 149 144 169 124  60  80 122 179 163 190 205 203\n",
            " 100  80  67  86 126 153 161 201 196 121 116  94  74  57  86  56 136 204\n",
            " 128  61  22  61  79 100 105 165 167  93  63  43  79 123 155 172 176 185\n",
            "  97  93  43  21  72 127 179 181 178  90  86  56  47  92 109 146 159 154\n",
            "  87  77  84  75  85 100 118 108 125]\n",
            "String (binario primeros 6 bytes):  010011110101001001001101010010110100000101000000\n",
            "===  Blue  ===\n",
            "Arreglo de una dimension (float):  [0.03921569 0.02352941 0.         0.         0.         0.01568628\n",
            " 0.01960784 0.03137255 0.08627451 0.06666667 0.03137255 0.06666667\n",
            " 0.05882353 0.07058824 0.03529412 0.0627451  0.07450981 0.13725491\n",
            " 0.09411765 0.10588235 0.15686275 0.16862746 0.20392157 0.29803923\n",
            " 0.30980393 0.3137255  0.3254902  0.12156863 0.11764706 0.07450981\n",
            " 0.08235294 0.20392157 0.4117647  0.3764706  0.39215687 0.36862746\n",
            " 0.11372549 0.18431373 0.20392157 0.17254902 0.2627451  0.36078432\n",
            " 0.49803922 0.43137255 0.5137255  0.25882354 0.23529412 0.32156864\n",
            " 0.33333334 0.42745098 0.42745098 0.5686275  0.6117647  0.6627451\n",
            " 0.09803922 0.14901961 0.28627452 0.43137255 0.5058824  0.43529412\n",
            " 0.50980395 0.6313726  0.60784316 0.20392157 0.21176471 0.27450982\n",
            " 0.31764707 0.28235295 0.37254903 0.22745098 0.39607844 0.6509804\n",
            " 0.2        0.0627451  0.06666667 0.09803922 0.14901961 0.27450982\n",
            " 0.22352941 0.47843137 0.49411765 0.05098039 0.05490196 0.06666667\n",
            " 0.14509805 0.28627452 0.32941177 0.43529412 0.49019608 0.60784316\n",
            " 0.12156863 0.15294118 0.0627451  0.03529412 0.20784314 0.3529412\n",
            " 0.6        0.6        0.5411765  0.12156863 0.16862746 0.15686275\n",
            " 0.08627451 0.3254902  0.42745098 0.47843137 0.5137255  0.47843137\n",
            " 0.17254902 0.15686275 0.23137255 0.14509805 0.21176471 0.3764706\n",
            " 0.4117647  0.38039216 0.43529412]\n",
            "arreglo de enteros (0~255):  [ 10   6   0   0   0   4   5   8  22  17   8  17  15  18   9  16  19  35\n",
            "  24  27  40  43  52  76  79  80  83  31  30  19  21  52 105  96 100  94\n",
            "  29  47  52  44  67  92 127 110 131  66  60  82  85 109 109 145 156 169\n",
            "  25  38  73 110 129 111 130 161 155  52  54  70  81  72  95  58 101 166\n",
            "  51  16  17  25  38  70  57 122 126  13  14  17  37  73  84 111 125 155\n",
            "  31  39  16   9  53  90 153 153 138  31  43  40  22  83 109 122 131 122\n",
            "  44  40  59  37  54  96 105  97 111]\n",
            "String (binario primeros 6 bytes):  000010100000011000000000000000000000000000000100\n"
          ]
        }
      ]
    },
    {
      "cell_type": "code",
      "source": [
        "#se comprueba extencion del mensaje\n",
        "#si es menor que el tamano de un canal se copleta con 0s y los otros canales se comopletan con 0s\n",
        "#si es mayor que el mensaje que el canal se trunca en el maximo que puede almacenar el canal y el restante se envia al siguiente canal\n",
        "\n",
        "maxChanel = (x*y)\n",
        "print('El tamano maximo del mensaje a ocultar es: ', maxChanel*3, 'bits o', int((maxChanel*3)/8), 'bytes (caracteres)')\n",
        "mensaje = input('Por favor ingrese el mensaje a ocultar: ')\n",
        "mensaje = ''.join('{0:08b}'.format(ord(i), 'b') for i in mensaje)\n",
        "print('Equivalente en \"binario\" al mensaje: ', mensaje[0:48], 'primeros 6 bytes')\n",
        "if len(mensaje) < maxChanel*3:\n",
        "  print('El mensaje es adecuado para ser oculto en la imagen: ', len(mensaje), ' de ', maxChanel*3, 'bits\\n')\n",
        "  mensaje += ''.join('0' for i in range(maxChanel*3-len(mensaje)))\n",
        "else:\n",
        "  print('ERR el mensaje es demaciado grande, se truncara al maximo ocultable en la imagen')\n",
        "\n",
        "mensajeR = mensaje[0:maxChanel]\n",
        "mensajeG = mensaje[maxChanel:maxChanel*2]\n",
        "mensajeB = mensaje[maxChanel*2:maxChanel*3]\n",
        "print('Equivalente en \"binario\" al mensaje: ', mensaje[0:48], 'primeros 6 bytes')"
      ],
      "metadata": {
        "colab": {
          "base_uri": "https://localhost:8080/"
        },
        "id": "WfkOaMdgYOCX",
        "outputId": "b2f79bac-d0a7-4ed4-ae42-f505a3385964"
      },
      "execution_count": null,
      "outputs": [
        {
          "output_type": "stream",
          "name": "stdout",
          "text": [
            "El tamano maximo del mensaje a ocultar es:  351 bits o 43 bytes (caracteres)\n",
            "Por favor ingrese el mensaje a ocultar: mensaje\n",
            "Equivalente en \"binario\" al mensaje:  011011010110010101101110011100110110000101101010 primeros 6 bytes\n",
            "El mensaje es adecuado para ser oculto en la imagen:  56  de  351 bits\n",
            "\n",
            "Equivalente en \"binario\" al mensaje:  011011010110010101101110011100110110000101101010 primeros 6 bytes\n"
          ]
        }
      ]
    },
    {
      "cell_type": "markdown",
      "source": [
        "### 3. Procesamiento de las imágenes con una máquina de Turing:\n",
        "Las imágenes se procesan con una máquina de Turing que genera una secuencia de bits agregando el mensaje oculto en los últimos bits (menos significativos)  . La máquina de Turing se implementa utilizando el siguiente código:"
      ],
      "metadata": {
        "id": "Y6QOwdu5viNx"
      }
    },
    {
      "cell_type": "code",
      "source": [
        "#se concatena el mensaje a ocultar en binario\n",
        "rString += '#' + mensajeR\n",
        "gString += '#' + mensajeG\n",
        "bString += '#' + mensajeB\n"
      ],
      "metadata": {
        "id": "mIUEQwLRYLLp"
      },
      "execution_count": null,
      "outputs": []
    },
    {
      "cell_type": "code",
      "source": [
        "#Def. maquina de turing\n",
        "# ocultar mensaje\n",
        "dtm = DTM(\n",
        "    states={'q0', 'q1', 'q2','q3','q4','q5','q6','q7','q8','q9','q10','q11','q12'},\n",
        "    input_symbols={'0', '1', '#'},\n",
        "    tape_symbols={'0', '1', '#','.', '*'}, #El punto se usa para limpiar el símbolo de la cinta y el * para marcar\n",
        "    transitions={\n",
        "        'q0': {\n",
        "            '1':('q1','1','R'),\n",
        "            '0':('q1','0','R'),\n",
        "            '#':('q8','#','R')\n",
        "        },\n",
        "        'q1': {\n",
        "            '1':('q2','1','R'),\n",
        "            '0':('q2','0','R')\n",
        "        },\n",
        "        'q2':{\n",
        "            '1':('q3','1','R'),\n",
        "            '0':('q3','0','R')\n",
        "        },\n",
        "        'q3':{\n",
        "            '1':('q4','1','R'),\n",
        "            '0':('q4','0','R')\n",
        "        },\n",
        "        'q4':{\n",
        "            '1':('q5','1','R'),\n",
        "            '0':('q5','0','R')\n",
        "        },\n",
        "        'q5':{\n",
        "            '1':('q6','1','R'),\n",
        "            '0':('q6','0','R')\n",
        "        },\n",
        "        'q6':{\n",
        "            '1':('q7','1','R'),\n",
        "            '0':('q7','0','R')\n",
        "        },\n",
        "        'q7':{\n",
        "            '1':('q8','*','R'),\n",
        "            '0':('q8','*','R')  \n",
        "        },\n",
        "        'q8':{\n",
        "            '1':('q8','1','R'),\n",
        "            '0':('q8','0','R'),\n",
        "            '#':('q9','#','R')\n",
        "        },\n",
        "        'q9':{\n",
        "            '1':('q10','#','L'),\n",
        "            '0':('q11','#','L'),\n",
        "            '#':('q9','#','R'),\n",
        "            '.':('q12','.','L')\n",
        "        },\n",
        "        'q10':{\n",
        "            '1':('q10','1','L'),\n",
        "            '0':('q10','0','L'),\n",
        "            '#':('q10','#','L'),\n",
        "            '*':('q0','1','R')\n",
        "        },\n",
        "        'q11':{\n",
        "            '1':('q11','1','L'),\n",
        "            '0':('q11','0','L'),\n",
        "            '#':('q11','#','L'),\n",
        "            '*':('q0','0','R')\n",
        "        }\n",
        "    },\n",
        "    initial_state='q0',\n",
        "    blank_symbol='.',\n",
        "    final_states={'q12'}\n",
        ")"
      ],
      "metadata": {
        "id": "mMIgTz08MA8m"
      },
      "execution_count": null,
      "outputs": []
    },
    {
      "cell_type": "code",
      "source": [
        "#prueba de la MT\n",
        "res = dtm.read_input('001001010010010000100010001000000001111000100000#110101')\n",
        "print(res.tape.get_symbols_as_str())"
      ],
      "metadata": {
        "colab": {
          "base_uri": "https://localhost:8080/"
        },
        "id": "rwIen8ZegOea",
        "outputId": "c69e0352-a534-4669-a0a6-0f66252b92b0"
      },
      "execution_count": null,
      "outputs": [
        {
          "output_type": "stream",
          "name": "stdout",
          "text": [
            "001001010010010100100010001000010001111000100001#######.\n"
          ]
        }
      ]
    },
    {
      "cell_type": "code",
      "source": [
        "# obtener cinta MT canar R\n",
        "rResTM = dtm.read_input(rString)\n",
        "rMTString = rResTM.tape.get_symbols_as_str()\n",
        "\n",
        "# obtener cinta MT canar G\n",
        "gResTM = dtm.read_input(gString)\n",
        "gMTString = gResTM.tape.get_symbols_as_str()\n",
        "\n",
        "# obtener cinta MT canar B\n",
        "bResTM = dtm.read_input(bString)\n",
        "bMTString = bResTM.tape.get_symbols_as_str()"
      ],
      "metadata": {
        "id": "LV_7KZRKJfnm"
      },
      "execution_count": null,
      "outputs": []
    },
    {
      "cell_type": "code",
      "source": [
        "#transforma un string (binario) a un array con las dimenciones originales de la imagen\n",
        "def reconstruirImagen(cString):\n",
        "  print('Binario a reconstruir: ', cString[0:48], '(primeros 6 bytes)')\n",
        "  stringLimpio = cString.split('#')[0]\n",
        "  reconstruido = ' '.join('{0:n}'.format(int(stringLimpio[i*8:(i+1)*8],2), 'b') for i in range(int(len(stringLimpio)/8)))\n",
        "  print(reconstruido[0:48])\n",
        "  reconstruido = np.array(reconstruido.split())\n",
        "  reconstruido = reconstruido.astype(int)\n",
        "  return reconstruido.reshape(x,y,1)"
      ],
      "metadata": {
        "id": "lAmqc08NXWiC"
      },
      "execution_count": null,
      "outputs": []
    },
    {
      "cell_type": "code",
      "source": [
        "# recuperar imagen y comparar\n",
        "rReconstruido = reconstruirImagen(rMTString)\n",
        "gReconstruido = reconstruirImagen(gMTString)\n",
        "bReconstruido = reconstruirImagen(bMTString)\n",
        "imgReconstruida = (np.concatenate((rReconstruido,gReconstruido,bReconstruido),axis=2))"
      ],
      "metadata": {
        "colab": {
          "base_uri": "https://localhost:8080/"
        },
        "id": "7iYc6eZ5fPlp",
        "outputId": "c26d0388-f500-4b2c-b759-ae54ad8fd28d"
      },
      "execution_count": null,
      "outputs": [
        {
          "output_type": "stream",
          "name": "stdout",
          "text": [
            "Binario a reconstruir:  001111000011111100111101001111000011010100110101 (primeros 6 bytes)\n",
            "60 63 61 60 53 53 36 23 32 79 81 90 86 89 66 71 \n",
            "Binario a reconstruir:  010011100101001001001100010010100100000001000000 (primeros 6 bytes)\n",
            "78 82 76 74 64 64 44 30 42 98 100 110 106 106 84\n",
            "Binario a reconstruir:  000010100000011000000000000000000000000000000100 (primeros 6 bytes)\n",
            "10 6 0 0 0 4 4 8 22 16 8 16 14 18 8 16 18 34 24 \n"
          ]
        }
      ]
    },
    {
      "cell_type": "code",
      "source": [
        "from IPython.core.pylabtools import figsize\n",
        "f, axs = plt.subplots(1,2, figsize=(10,7))\n",
        "axs[0].set_title('Imagen reconstruida')\n",
        "axs[0].imshow(imgReconstruida)\n",
        "axs[1].set_title('Imagen original')\n",
        "axs[1].imshow(img)"
      ],
      "metadata": {
        "colab": {
          "base_uri": "https://localhost:8080/",
          "height": 447
        },
        "id": "gFyKPF2l7hvO",
        "outputId": "6dc2148a-d1dd-44c7-a474-3150784ec4ad"
      },
      "execution_count": null,
      "outputs": [
        {
          "output_type": "execute_result",
          "data": {
            "text/plain": [
              "<matplotlib.image.AxesImage at 0x7f49afa876d0>"
            ]
          },
          "metadata": {},
          "execution_count": 23
        },
        {
          "output_type": "display_data",
          "data": {
            "text/plain": [
              "<Figure size 720x504 with 2 Axes>"
            ],
            "image/png": "[encoded data removed]"
          },
          "metadata": {
            "needs_background": "light"
          }
        }
      ]
    },
    {
      "cell_type": "code",
      "source": [
        "rMTString += '#'"
      ],
      "metadata": {
        "id": "QICBnfBHhTjB"
      },
      "execution_count": null,
      "outputs": []
    },
    {
      "cell_type": "code",
      "source": [
        "# decodificar el mensaje\n",
        "# recuperar mensaje\n",
        "dtm2 = DTM(\n",
        "     states={'q0', 'q1', 'q2','q3','q4','q5','q6','q7','q8','q9','q10','q11','q12','q13','q14'},\n",
        "     input_symbols={'0', '1', '#','*'},\n",
        "     tape_symbols={'0', '1', '#','.','*'}, #El punto se usa para limpiar el símbolo de la cinta.\n",
        "     transitions={\n",
        "        'q0': {\n",
        "            '1':('q1','1','R'),\n",
        "            '0':('q1','0','R'),\n",
        "            '#':('q14','#','R'),\n",
        "        },\n",
        "        'q1': {\n",
        "            '1':('q2','1','R'),\n",
        "            '0':('q2','0','R')\n",
        "        },\n",
        "        'q2':{\n",
        "            '1':('q3','1','R'),\n",
        "            '0':('q3','0','R')\n",
        "        },\n",
        "        'q3':{\n",
        "            '1':('q4','1','R'),\n",
        "            '0':('q4','0','R')\n",
        "        },\n",
        "        'q4':{\n",
        "            '1':('q5','1','R'),\n",
        "            '0':('q5','0','R')\n",
        "        },\n",
        "        'q5':{\n",
        "            '1':('q6','1','R'),\n",
        "            '0':('q6','0','R')\n",
        "        },\n",
        "        'q6':{\n",
        "            '1':('q7','1','R'),\n",
        "            '0':('q7','0','R')\n",
        "        },\n",
        "        'q7':{\n",
        "            '0':('q8','*','R'),\n",
        "            '1':('q9','*','R')  \n",
        "        },\n",
        "        'q8':{\n",
        "            '1':('q8','1','R'),\n",
        "            '0':('q8','0','R'),\n",
        "            '#':('q10','#','R')\n",
        "        },\n",
        "        'q9':{\n",
        "            '1':('q9','1','R'),\n",
        "            '0':('q9','0','R'),\n",
        "            '#':('q11','#','R')\n",
        "        },\n",
        "        'q10':{\n",
        "            '.':('q12','0','L'),\n",
        "            '1':('q10','1','R'),\n",
        "            '0':('q10','0','R')\n",
        "        },\n",
        "        'q11':{\n",
        "            '.':('q13','1','L'),\n",
        "            '1':('q11','1','R'),\n",
        "            '0':('q11','0','R')\n",
        "        },\n",
        "        'q12':{\n",
        "            '1':('q12','1','L'),\n",
        "            '0':('q12','0','L'),\n",
        "            '#':('q12','#','L'),\n",
        "            '*':('q0','0','R')\n",
        "        },\n",
        "        'q13':{\n",
        "            '1':('q13','1','L'),\n",
        "            '0':('q13','0','L'),\n",
        "            '#':('q13','#','L'),\n",
        "            '*':('q0','1','R')\n",
        "        }\n",
        "    },\n",
        "    initial_state='q0',\n",
        "    blank_symbol='.',\n",
        "    final_states={'q14'}\n",
        ")"
      ],
      "metadata": {
        "id": "zBb9YkRI4-Ab"
      },
      "execution_count": null,
      "outputs": []
    },
    {
      "cell_type": "code",
      "source": [
        "#prueba de la MT\n",
        "res = dtm2.read_input('001001010010010100100010001000000001111000100001#')\n",
        "print(res.tape.get_symbols_as_str())"
      ],
      "metadata": {
        "colab": {
          "base_uri": "https://localhost:8080/"
        },
        "id": "Hb6opm62sOuB",
        "outputId": "2ad5f972-2faf-4670-f4df-9e348c04abd3"
      },
      "execution_count": null,
      "outputs": [
        {
          "output_type": "stream",
          "name": "stdout",
          "text": [
            "001001010010010100100010001000000001111000100001#110001\n"
          ]
        }
      ]
    },
    {
      "cell_type": "code",
      "source": [
        "rMenssage = rMTString.split('#')[0] + '#'\n",
        "gMenssage = gMTString.split('#')[0] + '#'\n",
        "bMenssage = bMTString.split('#')[0] + '#'\n",
        "\n",
        "# obtener cinta MT canar R\n",
        "rMessageTM = dtm2.read_input(rMenssage)\n",
        "rMessage = rMessageTM.tape.get_symbols_as_str()\n",
        "\n",
        "# obtener cinta MT canar G\n",
        "gMessageTM = dtm2.read_input(gMenssage)\n",
        "gMessage = gMessageTM.tape.get_symbols_as_str()\n",
        "\n",
        "# obtener cinta MT canar B\n",
        "bMessageTM = dtm2.read_input(bMenssage)\n",
        "bMessage = bMessageTM.tape.get_symbols_as_str()"
      ],
      "metadata": {
        "id": "K9I91L_tZy5I"
      },
      "execution_count": null,
      "outputs": []
    },
    {
      "cell_type": "code",
      "source": [
        "stringLimpio = (rMessage.split('#')[1]+gMessage.split('#')[1]+bMessage.split('#')[1])\n",
        "messageReconstruido = ' '.join('{0:n}'.format(int(stringLimpio[i*8:(i+1)*8],2), 'b') for i in range(int(len(stringLimpio)/8)))"
      ],
      "metadata": {
        "id": "PgdmM1NedfqE"
      },
      "execution_count": null,
      "outputs": []
    },
    {
      "cell_type": "code",
      "source": [
        "# toma el string de numeros y los trasforma en un string medinate el uso de la tabla ascii\n",
        "decodificado = \"\"\n",
        "for numero in messageReconstruido.split(' '):\n",
        "  if numero != '0':\n",
        "    letra = chr(int(numero))\n",
        "    decodificado += letra\n",
        "print(decodificado)"
      ],
      "metadata": {
        "colab": {
          "base_uri": "https://localhost:8080/"
        },
        "id": "R-Pa56WxMEbz",
        "outputId": "ccf3417c-7454-4fd7-f539-b00034e9b405"
      },
      "execution_count": null,
      "outputs": [
        {
          "output_type": "stream",
          "name": "stdout",
          "text": [
            "mensaje\n"
          ]
        }
      ]
    }
  ]
}